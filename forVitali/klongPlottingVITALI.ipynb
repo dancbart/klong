{
 "cells": [
  {
   "cell_type": "code",
   "execution_count": null,
   "metadata": {},
   "outputs": [],
   "source": [
    "# This is adapted from Vitali's original c++ code\n",
    "import matplotlib.pyplot as plt\n",
    "import numpy as np\n",
    "\n",
    "kLong_p_values = np.array([0.2]) #, 0.3, 0.4, 0.5, 0.6\n",
    "kPlus_p = np.linspace(0.001, 0.20, 100)\n",
    "\n",
    "KLm = 0.4976  # KL beam mass\n",
    "Km = 0.4976  # K+ mass secondary\n",
    "Nm = 0.939  # Neutron mass recoil\n",
    "Pm = 0.939  # Proton mass target\n",
    "\n",
    "# Initialize an empty array to store theta (in degrees) for each kLong_p value\n",
    "theta_values_degrees = []\n",
    "\n",
    "# Loop through each value in kLong_p_values\n",
    "for kLong_p in kLong_p_values:\n",
    "    KLe = np.sqrt(kLong_p ** 2 + KLm ** 2)  # KL beam energy\n",
    "    Xe2 = (kPlus_p * kPlus_p + Km * Km)  # K+ energy**2\n",
    "    Xe = np.sqrt(Xe2)  # K+ energy\n",
    "    W = Pm + KLe  # W energy\n",
    "    coter = (kLong_p ** 2 + Nm ** 2 - W ** 2 - Km ** 2)\n",
    "\n",
    "    cosineTheta = np.cos((coter + 2 * W * Xe) / (2 * kLong_p * kPlus_p))\n",
    "    \n",
    "    cosineTheta = np.clip(cosineTheta, -1, 1)  # Clip values to be between -1 and 1\n",
    "    \n",
    "    theta_radians = np.arccos(cosineTheta)  # Calculate theta in radians\n",
    "    theta_degrees = np.degrees(theta_radians)  # Convert theta to degrees\n",
    "    theta_values_degrees.append(theta_degrees)\n",
    "    \n",
    "    plt.plot(kPlus_p, theta_degrees, label=f'kLong_p = {kLong_p}')\n",
    "\n",
    "plt.xlabel('K+ Momentum')\n",
    "plt.ylabel('Theta (degrees)')\n",
    "plt.legend()\n",
    "plt.show()\n"
   ]
  }
 ],
 "metadata": {
  "language_info": {
   "name": "python"
  }
 },
 "nbformat": 4,
 "nbformat_minor": 2
}

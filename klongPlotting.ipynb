{
 "cells": [
  {
   "cell_type": "markdown",
   "metadata": {},
   "source": [
    "### Plot scattering angle of k+ as a function of its momentum"
   ]
  },
  {
   "cell_type": "code",
   "execution_count": null,
   "metadata": {},
   "outputs": [],
   "source": [
    "import matplotlib.pyplot as plt\n",
    "import numpy as np\n",
    "import pandas as pd\n",
    "\n",
    "kLong_p_values = pd.Series([0.2]) # , 0.3, 0.4, 0.5, 0.6\n",
    "kPlus_p = pd.Series(np.linspace(0.001, 0.20, 50))\n",
    "\n",
    "neutron_m = 0.939  # neutron mass (recoil)\n",
    "kPlus_m = 0.4976  # k+ mass\n",
    "\n",
    "def kLong_e(kLong_p, kLong_m):\n",
    "    return np.sqrt(kLong_p**2 + kLong_m**2)\n",
    "\n",
    "def kPlus_e(kPlus_p, kPlus_m):\n",
    "    return np.sqrt(kPlus_p**2 + kPlus_m**2)\n",
    "\n",
    "def neutron_e(kLong_e, kPlus_e, proton_m):\n",
    "    return (kLong_e + proton_m - kPlus_e)\n",
    "\n",
    "# Define the function to calculate cosineTheta\n",
    "def calculate_cosTheta(kLong_p, kPlus_p, neutron_m, neutron_e):\n",
    "    return np.cos((kLong_p**2 + kPlus_p**2 + neutron_m**2 - neutron_e) / (2 * kLong_p * kPlus_p))\n",
    "\n",
    "\n",
    "# Loop through each value in kLong_p_values\n",
    "for kLong_p in kLong_p_values:\n",
    "    cosTheta = calculate_cosTheta(kLong_p, kPlus_p, neutron_m, neutron_e)\n",
    "    cosTheta = np.clip(cosineTheta, -1, 1)\n",
    "    # print(f\"CosineTheta values for kLong_p = {kLong_p} are: \\n{cosineTheta}\\n\")\n",
    "    theta = np.degrees(np.arccos(cosineTheta))  # Calculate theta in degrees\n",
    "    print(f\"Theta values for kLong_p = {kLong_p} are: \\n{theta}\\n\")\n",
    "    plt.plot(kPlus_p, theta, label=f'kLong_p = {kLong_p}')\n",
    "\n",
    "plt.xlabel('K+ Momentum')\n",
    "plt.ylabel('Theta (degrees)')  # Adjust the y-axis label\n",
    "plt.legend()\n",
    "plt.show()\n"
   ]
  }
 ],
 "metadata": {
  "kernelspec": {
   "display_name": "Python 3",
   "language": "python",
   "name": "python3"
  },
  "language_info": {
   "codemirror_mode": {
    "name": "ipython",
    "version": 3
   },
   "file_extension": ".py",
   "mimetype": "text/x-python",
   "name": "python",
   "nbconvert_exporter": "python",
   "pygments_lexer": "ipython3",
   "version": "3.6.8"
  },
  "orig_nbformat": 4
 },
 "nbformat": 4,
 "nbformat_minor": 2
}
